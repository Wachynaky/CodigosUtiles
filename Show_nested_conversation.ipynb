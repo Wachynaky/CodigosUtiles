{
  "nbformat": 4,
  "nbformat_minor": 0,
  "metadata": {
    "colab": {
      "private_outputs": true,
      "provenance": []
    },
    "kernelspec": {
      "name": "python3",
      "display_name": "Python 3"
    },
    "language_info": {
      "name": "python"
    }
  },
  "cells": [
    {
      "cell_type": "markdown",
      "source": [
        "\n",
        "This script enhances your browsing experience by automatically expanding all nested conversations within a thread. No more clicking on hidden replies – view the entire conversation seamlessly.\n",
        "\n",
        "1- Copy this code\n",
        "\n",
        "1.   Copy this code\n",
        "\n",
        "\n",
        "\n",
        "2.   Create new bookmart and paste the code en \"url\" field.\n",
        "\n"
      ],
      "metadata": {
        "id": "ZJrnXNJIOJVG"
      }
    },
    {
      "cell_type": "code",
      "source": [
        "javascript:!function(){if (typeof document.querySelectorAll('.scTailwindThreadMessagegapload-all')[0] !== 'undefined'){document.querySelectorAll('.scTailwindThreadMessagegapload-all')[0].firstElementChild.click()};document.querySelectorAll('.scTailwindThreadMessagegapmore-nested-replies:first-of-type button').forEach((e)=> {e.click();});if (document.querySelectorAll('.scTailwindThreadMessagegapmore-nested-replies:first-of-type button').length>0){document.querySelectorAll('.scTailwindThreadMessagegapmore-nested-replies:first-of-type button').forEach((e)=> {e.click();});}}();"
      ],
      "metadata": {
        "id": "-wmrJjWUTeGA"
      },
      "execution_count": null,
      "outputs": []
    }
  ]
}
