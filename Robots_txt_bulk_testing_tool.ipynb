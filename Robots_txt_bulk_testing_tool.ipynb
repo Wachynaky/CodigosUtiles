{
  "nbformat": 4,
  "nbformat_minor": 0,
  "metadata": {
    "colab": {
      "provenance": []
    },
    "kernelspec": {
      "name": "python3",
      "display_name": "Python 3"
    },
    "language_info": {
      "name": "python"
    }
  },
  "cells": [
    {
      "cell_type": "markdown",
      "source": [
        "# Robots.txt testing tool\n",
        "\n",
        "\n",
        "> Using Google [Robots.txt Parser and Matcher Library](https://github.com/google/robotstxt)\n",
        "\n",
        "\n"
      ],
      "metadata": {
        "id": "ZA4GUok1Jeq1"
      }
    },
    {
      "cell_type": "markdown",
      "source": [
        "\n",
        "\n",
        "```\n",
        "@Author{\n",
        "  Name = {Lino Uruñuela},\n",
        "  title = {Robots.txt testing tool 🤖},\n",
        "  publisher = {Lino Uruñuela, Google Cloab},\n",
        "  date = {2024-02-22},\n",
        "  twitter = [@errioxa] https://twitter.com/Errioxa,\n",
        "  url = {https://colab.research.google.com/drive/1_yDVOXi3AfMzIKyEosEYt08fFbIle5Eb}\n",
        "}\n",
        "\n",
        "```\n",
        "---\n"
      ],
      "metadata": {
        "id": "T44iQbcEGrzG"
      }
    },
    {
      "cell_type": "markdown",
      "source": [
        "# <font color=\"#2196f3\"><b>NEED to save</b> a copy of this document:</font> <i><b>File</b></i> → <i><b>Save a copy to Drive.</b></i>\n"
      ],
      "metadata": {
        "id": "KS3Q2xWfT7jI"
      }
    },
    {
      "cell_type": "markdown",
      "source": [
        "## <b>1.<font color=\"#2196f3\"> *Click Play ( ▶) </font> to Run this code*</b> </b></i>"
      ],
      "metadata": {
        "id": "EqhwqOOy-Qx6"
      }
    },
    {
      "cell_type": "code",
      "source": [
        "! git clone https://github.com/google/robotstxt.git robotstxt\n",
        "! mkdir c-build && cd c-build\n",
        "! cmake robotstxt/ -DROBOTS_BUILD_TESTS=ON\n",
        "! make\n",
        "! make test"
      ],
      "metadata": {
        "id": "NEYknfY4V8ZV"
      },
      "execution_count": null,
      "outputs": []
    },
    {
      "cell_type": "markdown",
      "source": [
        "# <b>2. <font color=\"#2196f3\">Replace</font> this example with the content of the robots.txt you want to test  \n",
        "----------------------------------------------------  \n",
        "&nbsp;&nbsp;&nbsp;&nbsp;&nbsp;&nbsp;&nbsp;&nbsp;&nbsp;&nbsp;&nbsp;&nbsp;&nbsp;&nbsp;&nbsp;&nbsp;&nbsp;&nbsp;&nbsp;&nbsp;&nbsp;&nbsp;&nbsp;<font color=\"#2196f3\">**NOT DELETE first line:**  </font>\\\n",
        "&nbsp;&nbsp;&nbsp;&nbsp;&nbsp;&nbsp;&nbsp;&nbsp;&nbsp;👇 <i>%%writefile contenidoRobots.txt</i> &nbsp;&nbsp;👇  "
      ],
      "metadata": {
        "id": "eamo7tUqmTf1"
      }
    },
    {
      "cell_type": "code",
      "source": [
        "%%writefile contenidoRobots.txt\n",
        "#Replace with the content of the robots.txt you want to test.\n",
        "\n",
        "User-agent: *\n",
        "Disallow: /*Control/\n",
        "Disallow: /*?email=*\n",
        "Disallow: /*google/*\n",
        "Disallow: /*prueba-anadir-linea/*\n",
        "Disallow: /*buscador/*\n",
        "Disallow: /*marketing/*\n",
        "Disallow: /*wp/*\n",
        "Disallow: /*nuevoDiseno/*\n",
        "Disallow: /*google/javascript/*\n",
        "Disallow: /UrlForAhrefsBot\n",
        "\n",
        "User-agent: MJ12bot\n",
        "User-agent: SemrushBot\n",
        "User-agent: SemrushBot-SA\n",
        "User-agent: rogerbot\n",
        "User-agent: dotbot\n",
        "User-agent: AhrefsBot\n",
        "User-agent: Alexibot\n",
        "User-agent: SurveyBot\n",
        "User-agent: Xenu’s\n",
        "User-agent: Xenu’s Link Sleuth 1.1c\n",
        "User-agent: Baiduspider\n",
        "User-agent: Ezooms\n",
        "Disallow: /\n",
        "\n",
        "User-agent: AhrefsBot\n",
        "Allow: /UrlForAhrefsBot\n"
      ],
      "metadata": {
        "id": "vJz8M7J0hFEc",
        "colab": {
          "base_uri": "https://localhost:8080/"
        },
        "outputId": "74c2e48a-30b4-40dd-87f1-355406617f1d"
      },
      "execution_count": null,
      "outputs": [
        {
          "output_type": "stream",
          "name": "stdout",
          "text": [
            "Overwriting contenidoRobots.txt\n"
          ]
        }
      ]
    },
    {
      "cell_type": "markdown",
      "source": [
        "# <b>3. <font color=\"#2196f3\">Replace this URLs</font>  with the URLs you want to test.\n",
        "----------------------------------------------------\n",
        "&nbsp;&nbsp;&nbsp;&nbsp;&nbsp;&nbsp;&nbsp;&nbsp;&nbsp;&nbsp;&nbsp;&nbsp;&nbsp;&nbsp;&nbsp;&nbsp;&nbsp;<font color=\"#2196f3\">**NOT DELETE first line:**  </font>\\\n",
        "&nbsp;&nbsp;&nbsp;&nbsp;&nbsp;&nbsp;&nbsp;&nbsp;&nbsp;👇 _%%writefile UrlsToTest.txt_ &nbsp;&nbsp;👇"
      ],
      "metadata": {
        "id": "etH5OmosmN4H"
      }
    },
    {
      "cell_type": "code",
      "source": [
        "%%writefile UrlsToTest.txt\n",
        "#Add the URLs you want to test\n",
        "\n",
        "https://www.mecagoenlos.com/\n",
        "https://www.mecagoenlos.com/google/NotAccessibleUrl\n",
        "https://www.mecagoenlos.com/urlAccesible\n",
        "https://www.mecagoenlos.com/UrlForAhrefsBot\n",
        "https://www.mecagoenlos.com/a\n",
        "\n"
      ],
      "metadata": {
        "id": "_Kml6lZYlgZr",
        "colab": {
          "base_uri": "https://localhost:8080/"
        },
        "outputId": "b4a2b3d7-fa75-4ec3-f606-5e4ba658ffc9"
      },
      "execution_count": null,
      "outputs": [
        {
          "output_type": "stream",
          "name": "stdout",
          "text": [
            "Overwriting UrlsToTest.txt\n"
          ]
        }
      ]
    },
    {
      "cell_type": "markdown",
      "source": [
        "# <b>4. <font color=\"#2196f3\"> Run</font> and get the result for each URL\n",
        "-------------------------------------------\n",
        "&nbsp;&nbsp;&nbsp;&nbsp;&nbsp;&nbsp;&nbsp;&nbsp;&nbsp;&nbsp;&nbsp;&nbsp; 🤖 --- Using <font color=\"#2196f3\">**'Googlebot'**</font> as User Agent\n",
        "\n"
      ],
      "metadata": {
        "id": "5G_Gjl0PIaI9"
      }
    },
    {
      "cell_type": "code",
      "source": [
        "\n",
        "! cat UrlsToTest.txt | grep -ve '^#' | xargs -I{} /content/robots contenidoRobots.txt \"Googlebot\" {} | sed -e '/DISALLOWED$/s/^/\\o033[31m/' -e '/DISALLOWED$/s/$/\\o033[0m/' -e '/ALLOWED$/s/^/\\o033[32m/' -e '/ALLOWED$/s/$/\\o033[0m/'\n"
      ],
      "metadata": {
        "id": "SrqbYL3_wddd",
        "colab": {
          "base_uri": "https://localhost:8080/"
        },
        "outputId": "6b8f7761-219a-4213-a948-e4936cd7e873"
      },
      "execution_count": null,
      "outputs": [
        {
          "output_type": "stream",
          "name": "stdout",
          "text": [
            "\u001b[32muser-agent 'Googlebot' with URI 'https://www.mecagoenlos.com/': ALLOWED\u001b[0m\n",
            "\u001b[31muser-agent 'Googlebot' with URI 'https://www.mecagoenlos.com/google/NotAccessibleUrl': DISALLOWED\u001b[0m\n",
            "\u001b[32muser-agent 'Googlebot' with URI 'https://www.mecagoenlos.com/urlAccesible': ALLOWED\u001b[0m\n",
            "\u001b[31muser-agent 'Googlebot' with URI 'https://www.mecagoenlos.com/UrlForAhrefsBot': DISALLOWED\u001b[0m\n",
            "\u001b[32muser-agent 'Googlebot' with URI 'https://www.mecagoenlos.com/a': ALLOWED\u001b[0m\n"
          ]
        }
      ]
    },
    {
      "cell_type": "markdown",
      "source": [
        "# <b>5. <font color=\"#2196f3\"> Run</font> this example and get the result\n",
        "&nbsp;&nbsp;&nbsp;&nbsp;&nbsp;&nbsp;&nbsp;&nbsp;&nbsp;&nbsp;&nbsp;&nbsp; 🤖 --- Using  <font color=\"#2196f3\">**'AhrefsBot'**</font> as User Agent\n"
      ],
      "metadata": {
        "id": "zbUs9J2_rXzC"
      }
    },
    {
      "cell_type": "code",
      "source": [
        "\n",
        "! cat UrlsToTest.txt | grep -ve '^#' | xargs -I{} /content/robots contenidoRobots.txt \"AhrefsBot\" {} | sed -e '/DISALLOWED$/s/^/\\o033[31m/' -e '/DISALLOWED$/s/$/\\o033[0m/' -e '/ALLOWED$/s/^/\\o033[32m/' -e '/ALLOWED$/s/$/\\o033[0m/'\n"
      ],
      "metadata": {
        "id": "zBl0ItrcrW89",
        "colab": {
          "base_uri": "https://localhost:8080/"
        },
        "outputId": "dae93b42-9c74-4cba-face-c6151870d15c"
      },
      "execution_count": null,
      "outputs": [
        {
          "output_type": "stream",
          "name": "stdout",
          "text": [
            "\u001b[31muser-agent 'AhrefsBot' with URI 'https://www.mecagoenlos.com/': DISALLOWED\u001b[0m\n",
            "\u001b[31muser-agent 'AhrefsBot' with URI 'https://www.mecagoenlos.com/google/NotAccessibleUrl': DISALLOWED\u001b[0m\n",
            "\u001b[31muser-agent 'AhrefsBot' with URI 'https://www.mecagoenlos.com/urlAccesible': DISALLOWED\u001b[0m\n",
            "\u001b[32muser-agent 'AhrefsBot' with URI 'https://www.mecagoenlos.com/UrlForAhrefsBot': ALLOWED\u001b[0m\n",
            "\u001b[31muser-agent 'AhrefsBot' with URI 'https://www.mecagoenlos.com/a': DISALLOWED\u001b[0m\n"
          ]
        }
      ]
    }
  ]
}
