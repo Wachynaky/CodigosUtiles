{
  "nbformat": 4,
  "nbformat_minor": 0,
  "metadata": {
    "colab": {
      "provenance": [],
      "collapsed_sections": [
        "KS3Q2xWfT7jI"
      ]
    },
    "kernelspec": {
      "name": "python3",
      "display_name": "Python 3"
    },
    "language_info": {
      "name": "python"
    }
  },
  "cells": [
    {
      "cell_type": "markdown",
      "source": [
        "# Robots.txt testing tool\n",
        "\n",
        "\n",
        "> Using Google [Robots.txt Parser and Matcher Library](https://github.com/google/robotstxt)\n",
        "\n",
        "\n"
      ],
      "metadata": {
        "id": "ZA4GUok1Jeq1"
      }
    },
    {
      "cell_type": "markdown",
      "source": [
        "\n",
        "\n",
        "```\n",
        "@Author{\n",
        "  Name = {Lino Uruñuela},\n",
        "  title = {Robots.txt testing tool 🤖},\n",
        "  publisher = {Lino Uruñuela, Google Cloab},\n",
        "  date = {2024-02-22},\n",
        "  twitter = [@errioxa] https://twitter.com/Errioxa,\n",
        "  url = {https://colab.research.google.com/drive/1_yDVOXi3AfMzIKyEosEYt08fFbIle5Eb}\n",
        "}\n",
        "\n",
        "```\n",
        "---\n"
      ],
      "metadata": {
        "id": "T44iQbcEGrzG"
      }
    },
    {
      "cell_type": "markdown",
      "source": [
        "# If you make a copy of this notebook, you will need to run these commands again"
      ],
      "metadata": {
        "id": "KS3Q2xWfT7jI"
      }
    },
    {
      "cell_type": "code",
      "source": [
        "! git clone https://github.com/google/robotstxt.git robotstxt\n",
        "! mkdir c-build && cd c-build\n",
        "! cmake robotstxt/ -DROBOTS_BUILD_TESTS=ON\n",
        "! make\n",
        "! make test"
      ],
      "metadata": {
        "id": "NEYknfY4V8ZV",
        "colab": {
          "base_uri": "https://localhost:8080/"
        },
        "outputId": "fd93d98e-8aba-41e2-8da8-798f86688a0d"
      },
      "execution_count": null,
      "outputs": [
        {
          "output_type": "stream",
          "name": "stdout",
          "text": [
            "fatal: destination path 'robotstxt' already exists and is not an empty directory.\n",
            "mkdir: cannot create directory ‘c-build’: File exists\n",
            "\u001b[33mCMake Warning (dev) at CMakeLists.txt:1 (PROJECT):\n",
            "  cmake_minimum_required() should be called prior to this top-level project()\n",
            "  call.  Please see the cmake-commands(7) manual for usage documentation of\n",
            "  both commands.\n",
            "This warning is for project developers.  Use -Wno-dev to suppress it.\n",
            "\u001b[0m\n",
            "\u001b[33mCMake Warning (dev) at CMakeLists.txt:1 (PROJECT):\n",
            "  Policy CMP0048 is not set: project() command manages VERSION variables.\n",
            "  Run \"cmake --help-policy CMP0048\" for policy details.  Use the cmake_policy\n",
            "  command to set the policy and suppress this warning.\n",
            "\n",
            "  The following variable(s) would be set to empty:\n",
            "\n",
            "    CMAKE_PROJECT_VERSION\n",
            "    CMAKE_PROJECT_VERSION_MAJOR\n",
            "    CMAKE_PROJECT_VERSION_MINOR\n",
            "    CMAKE_PROJECT_VERSION_PATCH\n",
            "This warning is for project developers.  Use -Wno-dev to suppress it.\n",
            "\u001b[0m\n",
            "\u001b[0mCMake Deprecation Warning at CMakeLists.txt:2 (CMAKE_MINIMUM_REQUIRED):\n",
            "  Compatibility with CMake < 3.5 will be removed from a future version of\n",
            "  CMake.\n",
            "\n",
            "  Update the VERSION argument <min> value or use a ...<max> suffix to tell\n",
            "  CMake that the project does not need compatibility with older versions.\n",
            "\n",
            "\u001b[0m\n",
            "CMake Warning (dev) at CMakeLists.txt:2 (PROJECT):\n",
            "  cmake_minimum_required() should be called prior to this top-level project()\n",
            "  call.  Please see the cmake-commands(7) manual for usage documentation of\n",
            "  both commands.\n",
            "This warning is for project developers.  Use -Wno-dev to suppress it.\n",
            "\n",
            "CMake Deprecation Warning at CMakeLists.txt:3 (CMAKE_MINIMUM_REQUIRED):\n",
            "  Compatibility with CMake < 3.5 will be removed from a future version of\n",
            "  CMake.\n",
            "\n",
            "  Update the VERSION argument <min> value or use a ...<max> suffix to tell\n",
            "  CMake that the project does not need compatibility with older versions.\n",
            "\n",
            "\n",
            "-- Configuring done (0.1s)\n",
            "-- Generating done (0.0s)\n",
            "-- Build files have been written to: /content/libs\n",
            "[  5%] Performing update step for 'abseilcpp'\n",
            "[ 11%] No patch step for 'abseilcpp'\n",
            "[ 16%] No configure step for 'abseilcpp'\n",
            "[ 22%] No build step for 'abseilcpp'\n",
            "[ 27%] No install step for 'abseilcpp'\n",
            "[ 33%] No test step for 'abseilcpp'\n",
            "[ 38%] Completed 'abseilcpp'\n",
            "[ 50%] Built target abseilcpp\n",
            "[ 55%] Performing update step for 'googletest'\n",
            "[ 61%] No patch step for 'googletest'\n",
            "[ 66%] No configure step for 'googletest'\n",
            "[ 72%] No build step for 'googletest'\n",
            "[ 77%] No install step for 'googletest'\n",
            "[ 83%] No test step for 'googletest'\n",
            "[ 88%] Completed 'googletest'\n",
            "[100%] Built target googletest\n",
            "\u001b[33mCMake Warning at /content/libs/abseil-cpp-src/CMakeLists.txt:82 (message):\n",
            "  A future Abseil release will default ABSL_PROPAGATE_CXX_STD to ON for CMake\n",
            "  3.8 and up.  We recommend enabling this option to ensure your project still\n",
            "  builds correctly.\n",
            "\n",
            "\u001b[0m\n",
            "-- Configuring done (1.1s)\n",
            "-- Generating done (0.4s)\n",
            "-- Build files have been written to: /content\n",
            "[  0%] Built target absl_spinlock_wait\n",
            "[  5%] Built target absl_log_severity\n",
            "[ 10%] Built target absl_raw_logging_internal\n",
            "[ 21%] Built target absl_base\n",
            "[ 26%] Built target absl_strings_internal\n",
            "[ 31%] Built target absl_throw_delegate\n",
            "[ 36%] Built target absl_int128\n",
            "[ 42%] Built target absl_string_view\n",
            "[ 73%] Built target absl_strings\n",
            "[ 78%] Built target robots\n",
            "[ 84%] Built target robots-static\n",
            "[ 89%] Built target robots-main\n",
            "[ 94%] Built target gtest\n",
            "[ 94%] Built target gtest_main\n",
            "[100%] Built target robots-test\n",
            "\u001b[36mRunning tests...\u001b[0m\n",
            "Test project /content\n",
            "    Start 1: robots-test\n",
            "1/1 Test #1: robots-test ......................   Passed    0.03 sec\n",
            "\n",
            "\u001b[0;32m100% tests passed\u001b[0;0m, 0 tests failed\u001b[0;0m out of 1\n",
            "\n",
            "Total Test time (real) =   0.03 sec\n"
          ]
        }
      ]
    },
    {
      "cell_type": "markdown",
      "source": [
        "# Replace this example with the content of the robots.txt you want to test.\n",
        "\n",
        "**not delete the first line '%%writefile contenidoRobots.txt'**"
      ],
      "metadata": {
        "id": "eamo7tUqmTf1"
      }
    },
    {
      "cell_type": "code",
      "source": [
        "%%writefile contenidoRobots.txt\n",
        "\n",
        "User-agent: *\n",
        "Disallow: /*Control/\n",
        "Disallow: /*?email=*\n",
        "Disallow: /*google/*\n",
        "Disallow: /*prueba-anadir-linea/*\n",
        "Disallow: /*buscador/*\n",
        "Disallow: /*marketing/*\n",
        "Disallow: /*wp/*\n",
        "Disallow: /*nuevoDiseno/*\n",
        "Disallow: /*google/javascript/*\n",
        "\n",
        "\n",
        "User-agent: MJ12bot\n",
        "User-agent: SemrushBot\n",
        "User-agent: SemrushBot-SA\n",
        "User-agent: rogerbot\n",
        "User-agent: dotbot\n",
        "User-agent: AhrefsBot\n",
        "User-agent: Alexibot\n",
        "User-agent: SurveyBot\n",
        "User-agent: Xenu’s\n",
        "User-agent: Xenu’s Link Sleuth 1.1c\n",
        "User-agent: Baiduspider\n",
        "User-agent: Ezooms\n",
        "Disallow: /\n",
        "\n",
        "#\n",
        "#1. A robot may not injure a human being or, through inaction, allow a human being to come to harm.\n",
        "#2. A robot must obey the orders given it by human beings except where such orders would conflict with the First Law.\n",
        "#3. A robot must protect its own existence as long as such protection does not conflict with the First or Second Law.\n",
        "#\n",
        "#\n",
        "#          ()               ()\n",
        "#            \\             /\n",
        "#           __\\___________/__\n",
        "#          /                 \\\n",
        "#         /     ___    ___    \\\n",
        "#         |    /   \\  /   \\   |\n",
        "#         |    |  H || H  |   |\n",
        "#         |    \\___/  \\___/   |\n",
        "#         |                   |\n",
        "#         |  \\             /  |\n",
        "#         |   \\___________/   |\n",
        "#         \\                   /\n",
        "#          \\_________________/\n",
        "#         _________|__|_______\n",
        "#       _|                    |_\n",
        "#      / |                    | \\\n",
        "#     /  |            O O O   |  \\\n",
        "#     |  |                    |  |\n",
        "#     |  |            O O O   |  |\n",
        "#     |  |                    |  |\n",
        "#     /  |                    |  \\\n",
        "#    |  /|                    |\\  |\n",
        "#     \\| |                    | |/\n",
        "#        |____________________|\n",
        "#           |  |        |  |\n",
        "#           |__|        |__|\n",
        "#          / __ \\      / __ \\\n",
        "#          OO  OO      OO  OO\n",
        "#\n",
        "# probando alerta robots"
      ],
      "metadata": {
        "id": "vJz8M7J0hFEc",
        "colab": {
          "base_uri": "https://localhost:8080/"
        },
        "outputId": "76979569-c885-4e8d-db90-b55c95b75a32"
      },
      "execution_count": null,
      "outputs": [
        {
          "output_type": "stream",
          "name": "stdout",
          "text": [
            "Overwriting contenidoRobots.txt\n"
          ]
        }
      ]
    },
    {
      "cell_type": "markdown",
      "source": [
        "# Replace this URLs with the URLs you want to test.\n",
        "**not delete the first line '%%writefile contenidoRobots.txt'**"
      ],
      "metadata": {
        "id": "etH5OmosmN4H"
      }
    },
    {
      "cell_type": "code",
      "source": [
        "%%writefile UrlsToTest.txt\n",
        "\n",
        "https://www.mecagoenlos.com/\n",
        "https://www.mecagoenlos.com/google/urlNOaccesible\n",
        "https://www.mecagoenlos.com/urlAccesible\n",
        "https://www.mecagoenlos.com/a\n",
        "\n"
      ],
      "metadata": {
        "id": "_Kml6lZYlgZr",
        "colab": {
          "base_uri": "https://localhost:8080/"
        },
        "outputId": "1ea8a6f0-5734-4c96-e22f-b4adf4f843e8"
      },
      "execution_count": null,
      "outputs": [
        {
          "output_type": "stream",
          "name": "stdout",
          "text": [
            "Overwriting UrlsToTest.txt\n"
          ]
        }
      ]
    },
    {
      "cell_type": "markdown",
      "source": [
        "# Run and get the result for each URL\n",
        ">  using **'Googlebot'** as User Agent\n",
        "\n"
      ],
      "metadata": {
        "id": "5G_Gjl0PIaI9"
      }
    },
    {
      "cell_type": "code",
      "source": [
        "! cat UrlsToTest.txt | xargs -I{}  /content/robots contenidoRobots.txt \"Googlebot\" {}"
      ],
      "metadata": {
        "id": "SrqbYL3_wddd",
        "colab": {
          "base_uri": "https://localhost:8080/"
        },
        "outputId": "5aee6e50-64a4-4d6b-9a85-87e1c423a221"
      },
      "execution_count": null,
      "outputs": [
        {
          "output_type": "stream",
          "name": "stdout",
          "text": [
            "user-agent 'Googlebot' with URI 'https://www.mecagoenlos.com/': ALLOWED\n",
            "user-agent 'Googlebot' with URI 'https://www.mecagoenlos.com/google/urlNOaccesible': DISALLOWED\n",
            "user-agent 'Googlebot' with URI 'https://www.mecagoenlos.com/urlAccesible': ALLOWED\n",
            "user-agent 'Googlebot' with URI 'https://www.mecagoenlos.com/a': ALLOWED\n"
          ]
        }
      ]
    },
    {
      "cell_type": "markdown",
      "source": [
        "# Run this example and get the result using AhrefsBot"
      ],
      "metadata": {
        "id": "zbUs9J2_rXzC"
      }
    },
    {
      "cell_type": "code",
      "source": [
        "! cat UrlsToTest.txt | xargs -I{}  /content/robots contenidoRobots.txt \"AhrefsBot\" {}"
      ],
      "metadata": {
        "id": "zBl0ItrcrW89",
        "colab": {
          "base_uri": "https://localhost:8080/"
        },
        "outputId": "58a00296-2b79-4e1c-ed13-f32596adf2ba"
      },
      "execution_count": null,
      "outputs": [
        {
          "output_type": "stream",
          "name": "stdout",
          "text": [
            "user-agent 'AhrefsBot' with URI 'https://www.mecagoenlos.com/': DISALLOWED\n",
            "user-agent 'AhrefsBot' with URI 'https://www.mecagoenlos.com/google/urlNOaccesible': DISALLOWED\n",
            "user-agent 'AhrefsBot' with URI 'https://www.mecagoenlos.com/urlAccesible': DISALLOWED\n",
            "user-agent 'AhrefsBot' with URI 'https://www.mecagoenlos.com/a': DISALLOWED\n"
          ]
        }
      ]
    }
  ]
}